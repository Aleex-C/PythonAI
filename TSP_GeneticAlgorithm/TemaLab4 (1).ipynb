{
  "nbformat": 4,
  "nbformat_minor": 0,
  "metadata": {
    "colab": {
      "provenance": []
    },
    "kernelspec": {
      "name": "python3",
      "display_name": "Python 3"
    },
    "language_info": {
      "name": "python"
    }
  },
  "cells": [
    {
      "cell_type": "code",
      "execution_count": 1,
      "metadata": {
        "colab": {
          "base_uri": "https://localhost:8080/"
        },
        "id": "hPVe87-ZJ3yC",
        "outputId": "188ee142-6120-448d-d42c-83a9141b52b6"
      },
      "outputs": [
        {
          "output_type": "stream",
          "name": "stdout",
          "text": [
            "Looking in indexes: https://pypi.org/simple, https://us-python.pkg.dev/colab-wheels/public/simple/\n",
            "Requirement already satisfied: tsplib95 in /usr/local/lib/python3.9/dist-packages (0.7.1)\n",
            "Requirement already satisfied: networkx~=2.1 in /usr/local/lib/python3.9/dist-packages (from tsplib95) (2.8.8)\n",
            "Requirement already satisfied: tabulate~=0.8.7 in /usr/local/lib/python3.9/dist-packages (from tsplib95) (0.8.10)\n",
            "Requirement already satisfied: Click>=6.0 in /usr/local/lib/python3.9/dist-packages (from tsplib95) (8.1.3)\n",
            "Requirement already satisfied: Deprecated~=1.2.9 in /usr/local/lib/python3.9/dist-packages (from tsplib95) (1.2.13)\n",
            "Requirement already satisfied: wrapt<2,>=1.10 in /usr/local/lib/python3.9/dist-packages (from Deprecated~=1.2.9->tsplib95) (1.15.0)\n"
          ]
        }
      ],
      "source": [
        "!pip install tsplib95"
      ]
    },
    {
      "cell_type": "code",
      "source": [
        "import random\n",
        "import networkx as nx\n",
        "import numpy as np\n",
        "import scipy as sp\n",
        "import matplotlib\n",
        "import tsplib95 as tsp\n",
        "import matplotlib.pyplot as plt"
      ],
      "metadata": {
        "id": "PxiJGPhAKeSh"
      },
      "execution_count": 272,
      "outputs": []
    },
    {
      "cell_type": "code",
      "source": [
        "problem = tsp.load(\"/content/bayg29.txt\")"
      ],
      "metadata": {
        "id": "xeTzkLncPJE8"
      },
      "execution_count": 338,
      "outputs": []
    },
    {
      "cell_type": "code",
      "source": [
        "problem.name"
      ],
      "metadata": {
        "colab": {
          "base_uri": "https://localhost:8080/",
          "height": 36
        },
        "id": "nZJ3yPg6YerN",
        "outputId": "6f6b02be-c042-4a2b-842f-c0e672e28b45"
      },
      "execution_count": 339,
      "outputs": [
        {
          "output_type": "execute_result",
          "data": {
            "text/plain": [
              "'bayg29'"
            ],
            "application/vnd.google.colaboratory.intrinsic+json": {
              "type": "string"
            }
          },
          "metadata": {},
          "execution_count": 339
        }
      ]
    },
    {
      "cell_type": "code",
      "source": [
        "G = problem.get_graph()"
      ],
      "metadata": {
        "id": "dy61pC_7YpzI"
      },
      "execution_count": 340,
      "outputs": []
    },
    {
      "cell_type": "code",
      "source": [
        "print(G[2][1])"
      ],
      "metadata": {
        "colab": {
          "base_uri": "https://localhost:8080/"
        },
        "id": "EXtPAeFSYt-A",
        "outputId": "39005fb4-a117-4cf2-d456-89f7f6bfa66f"
      },
      "execution_count": 341,
      "outputs": [
        {
          "output_type": "stream",
          "name": "stdout",
          "text": [
            "{'weight': 97, 'is_fixed': False}\n"
          ]
        }
      ]
    },
    {
      "cell_type": "code",
      "source": [
        "problem.node_coords"
      ],
      "metadata": {
        "colab": {
          "base_uri": "https://localhost:8080/"
        },
        "id": "IFsKNumx9yy1",
        "outputId": "21028951-56f4-45f3-f781-4d3c11a018eb"
      },
      "execution_count": 342,
      "outputs": [
        {
          "output_type": "execute_result",
          "data": {
            "text/plain": [
              "{1: [1150.0, 1760.0],\n",
              " 2: [630.0, 1660.0],\n",
              " 3: [40.0, 2090.0],\n",
              " 4: [750.0, 1100.0],\n",
              " 5: [750.0, 2030.0],\n",
              " 6: [1030.0, 2070.0],\n",
              " 7: [1650.0, 650.0],\n",
              " 8: [1490.0, 1630.0],\n",
              " 9: [790.0, 2260.0],\n",
              " 10: [710.0, 1310.0],\n",
              " 11: [840.0, 550.0],\n",
              " 12: [1170.0, 2300.0],\n",
              " 13: [970.0, 1340.0],\n",
              " 14: [510.0, 700.0],\n",
              " 15: [750.0, 900.0],\n",
              " 16: [1280.0, 1200.0],\n",
              " 17: [230.0, 590.0],\n",
              " 18: [460.0, 860.0],\n",
              " 19: [1040.0, 950.0],\n",
              " 20: [590.0, 1390.0],\n",
              " 21: [830.0, 1770.0],\n",
              " 22: [490.0, 500.0],\n",
              " 23: [1840.0, 1240.0],\n",
              " 24: [1260.0, 1500.0],\n",
              " 25: [1280.0, 790.0],\n",
              " 26: [490.0, 2130.0],\n",
              " 27: [1460.0, 1420.0],\n",
              " 28: [1260.0, 1910.0],\n",
              " 29: [360.0, 1980.0]}"
            ]
          },
          "metadata": {},
          "execution_count": 342
        }
      ]
    },
    {
      "cell_type": "code",
      "source": [
        "def create_route(G):\n",
        "  route = random.sample(G.nodes,len(G.nodes)) #possibly random.choice for cerinta extra\n",
        "  # route = random.choice\n",
        "  return route\n",
        "def create_population(popSize, G):\n",
        "  pop = []\n",
        "  for i in range(0,popSize):\n",
        "    pop.append(create_route(G))\n",
        "  return pop"
      ],
      "metadata": {
        "id": "6QMMX-XcaFOq"
      },
      "execution_count": 343,
      "outputs": []
    },
    {
      "cell_type": "code",
      "source": [
        "def route_distance(route,G):\n",
        "  distance = 0\n",
        "  for i in range(0, len(route)):\n",
        "    fromCity=i\n",
        "    if i+1 < len(route):\n",
        "      toCity=i+1\n",
        "      distance = distance + G[route[fromCity]][route[toCity]]['weight']\n",
        "    else:\n",
        "      distance += G[route[fromCity]][route[0]]['weight']\n",
        "  return distance\n"
      ],
      "metadata": {
        "id": "D0rBZUY0dEVg"
      },
      "execution_count": 344,
      "outputs": []
    },
    {
      "cell_type": "code",
      "source": [
        "def find_fitness(population, G):\n",
        "  fits = []\n",
        "  for i in range(0, len(population)):\n",
        "    fits.append(1/float(route_distance(population[i], G))) #cu cat creste lungimea, cu atat scad sansele\n",
        "  return fits\n"
      ],
      "metadata": {
        "id": "6MgjM1F7dGHa"
      },
      "execution_count": 345,
      "outputs": []
    },
    {
      "cell_type": "code",
      "source": [
        "def proportional_selection(elite, population, fit ):\n",
        "    # Alegem cu selectia ruleta (sau proportionala cu fitness-ul)\n",
        "    # selectia tine cont si de cromozomii care prezinta un fitness bun ( 10% in GA-Net)\n",
        "    elites = np.argsort(fit)\n",
        "    new_pop = [[] for _ in range(len(population))]\n",
        "\n",
        "    p = []\n",
        "    s = sum(fit)\n",
        "    for fit_score in fit:\n",
        "        # fitness-urile relative\n",
        "        p.append(fit_score/s)\n",
        "\n",
        "    for i in range(1,elite+1):\n",
        "        #punem \"the elites\"\n",
        "        pos = elites[-i]\n",
        "        new_pop[i-1] = population[pos]\n",
        "\n",
        "    for i in range(elite,len(population)):\n",
        "        #facem \"ruleta\"\n",
        "        # generam random o valoare in intervalul [0, 1]\n",
        "        x = random.uniform(0,1)\n",
        "        k=0\n",
        "        while k<len(population)-1 and x > sum(p[0:k]):\n",
        "            #daca \"ruleta\" pica in spatiul (cumulat) al fitness-ului relativ, atunci alegem drept candidat acest cromozom\n",
        "            # daca nu, \"ruleta merge\"\n",
        "            k=k+1\n",
        "\n",
        "        new_pop[i] = population[k]\n",
        "\n",
        "    return new_pop"
      ],
      "metadata": {
        "id": "fla2SIliC8BG"
      },
      "execution_count": 346,
      "outputs": []
    },
    {
      "cell_type": "code",
      "source": [
        "def breed(parent1, parent2):\n",
        "    child = []\n",
        "    childP1 = []\n",
        "    childP2 = []\n",
        "    \n",
        "    index1 = random.randint(0, len(parent1)) \n",
        "    index2 = random.randint(0, len(parent1)) \n",
        "    \n",
        "    startPos = min(index1, index2)\n",
        "    endPos = max(index1, index2)\n",
        "\n",
        "    for i in range(startPos, endPos):\n",
        "        childP1.append(parent1[i])\n",
        "        \n",
        "    childP2 = [item for item in parent2 if item not in childP1]\n",
        "\n",
        "    child = childP1 + childP2\n",
        "    return child"
      ],
      "metadata": {
        "id": "ReLKtUcXE_yi"
      },
      "execution_count": 347,
      "outputs": []
    },
    {
      "cell_type": "code",
      "source": [
        "def ord_crossover(pc, population):\n",
        "  new_pop = [[] for _ in range(len(population))]\n",
        "  for i in range(len(population)):\n",
        "    if random.uniform(0,1) < pc:\n",
        "      parent1 = population[i]\n",
        "      index_parent2= random.randint(0,len(population)-1)\n",
        "      while index_parent2 == i:\n",
        "        index_parent2= random.randint(0,len(population)-1)\n",
        "      parent2 = population[index_parent2]\n",
        "      new_pop[i]=breed(parent1, parent2)\n",
        "    else:\n",
        "      new_pop[i]=population[i]\n",
        "  return new_pop"
      ],
      "metadata": {
        "id": "n3_REmsGP3Mz"
      },
      "execution_count": 348,
      "outputs": []
    },
    {
      "cell_type": "code",
      "source": [
        "def mutation(pm, population):\n",
        "  # un putem pierde orase (conditia problemei), deci mutatie va reprezenta un swap\n",
        "  for i in range(len(population)):\n",
        "    if random.uniform(0,1) < pm:\n",
        "      pos1 = random.randint(0, len(population[i])-1)\n",
        "      pos2 = random.randint(0, len(population[i])-1)\n",
        "      while pos2 == pos1:\n",
        "        pos2 = random.randint(0, len(population[i])-1)\n",
        "      city1 = population[i][pos1]\n",
        "      city2 = population[i][pos2]\n",
        "      population[i][pos1] = city2\n",
        "      population[i][pos2] = city1\n",
        "  return population"
      ],
      "metadata": {
        "id": "ZXtVbrmMcYN1"
      },
      "execution_count": 349,
      "outputs": []
    },
    {
      "cell_type": "code",
      "source": [
        "population = create_population(100, G)\n",
        "fitness = find_fitness(population, G)\n",
        "best = np.argmax(fitness) #indicele celui mai fit cromozom\n",
        "print(best)\n",
        "print(population[best])\n",
        "print(fitness[best])\n",
        "print(sorted(fitness, reverse=True))"
      ],
      "metadata": {
        "colab": {
          "base_uri": "https://localhost:8080/"
        },
        "id": "urxUABIamkRw",
        "outputId": "249fb7cf-1e9f-4ac9-e758-f1b6a684bcb5"
      },
      "execution_count": 350,
      "outputs": [
        {
          "output_type": "stream",
          "name": "stdout",
          "text": [
            "73\n",
            "[13, 27, 23, 8, 6, 4, 22, 15, 25, 19, 20, 21, 7, 11, 3, 5, 10, 29, 28, 1, 24, 14, 17, 16, 2, 9, 12, 26, 18]\n",
            "0.0002697599136768276\n",
            "[0.0002697599136768276, 0.0002573340195573855, 0.00025207965717166626, 0.00024764735017335313, 0.00024740227610094015, 0.00023917723032767282, 0.00023674242424242425, 0.000236630383341221, 0.0002352387673488591, 0.00023386342376052386, 0.0002333177788147457, 0.00023293733985557886, 0.00023245002324500232, 0.00023239600278875203, 0.00023004370830457787, 0.0002296211251435132, 0.00022920009168003668, 0.000228675966155957, 0.00022825838849577722, 0.0002277385561375541, 0.00022732439190725165, 0.00022655188038060717, 0.00022578460149017836, 0.00022568269013766644, 0.00022558087074216106, 0.00022527596305474206, 0.00022487069934787497, 0.00022411474675033618, 0.00022381378692927484, 0.00022366360993066427, 0.00022306491188935982, 0.00022301516503122213, 0.00022148394241417498, 0.00022104332449160034, 0.00022099447513812155, 0.00022070183182520416, 0.00022016732716864817, 0.00021992522542335605, 0.00021934634788330776, 0.00021920210434020167, 0.00021810250817884405, 0.00021791239921551536, 0.0002176278563656148, 0.00021696680407897592, 0.00021696680407897592, 0.0002166377816291161, 0.00021626297577854672, 0.0002161227577263886, 0.0002153316106804479, 0.00021519259737465033, 0.000214638334406525, 0.00021408691928923143, 0.0002134927412467976, 0.00021258503401360543, 0.00021253985122210415, 0.00021150592216582064, 0.00021119324181626187, 0.00021061499578770007, 0.0002103049421661409, 0.00021003990758244065, 0.00020742584526031943, 0.00020716801325875285, 0.00020669698222405952, 0.00020631318341242006, 0.00020538098172109262, 0.00020512820512820512, 0.00020466639377814163, 0.0002043318348998774, 0.00020420665713702266, 0.0002035002035002035, 0.00020283975659229209, 0.00020173492031470649, 0.00020096463022508038, 0.0002003606491685033, 0.0002002002002002002, 0.00019984012789768185, 0.0001998001998001998, 0.00019892580067634773, 0.0001988862370723946, 0.00019876764062810574, 0.00019798059790140566, 0.00019739439399921041, 0.00019735543714229328, 0.00019727756954034326, 0.0001958863858961802, 0.00019447685725398678, 0.0001939487975174554, 0.0001937984496124031, 0.0001937984496124031, 0.00019376089905057158, 0.00019364833462432224, 0.00019157088122605365, 0.0001905850962454736, 0.0001893939393939394, 0.0001893222264293828, 0.00018709073900841907, 0.00018667164457718873, 0.0001823819077147547, 0.0001811922449719152, 0.00017633574325515782]\n"
          ]
        },
        {
          "output_type": "stream",
          "name": "stderr",
          "text": [
            "<ipython-input-343-32cba1659ccb>:2: DeprecationWarning: Sampling from a set deprecated\n",
            "since Python 3.9 and will be removed in a subsequent version.\n",
            "  route = random.sample(G.nodes,len(G.nodes)) #possibly random.choice for cerinta extra\n"
          ]
        }
      ]
    },
    {
      "cell_type": "code",
      "source": [
        "def genetic_algorithm(G, pm, pc, elitism, popSize, generations):\n",
        "  gens = []\n",
        "  same = []\n",
        "  t=0\n",
        "  population = create_population(popSize, G)\n",
        "  fitness = find_fitness(population, G)\n",
        "  best = np.argmax(fitness) #indicele celui mai fit cromozom\n",
        "  cnt = 1\n",
        "  old_best = fitness[best] #fitnessul cel mai bun atm\n",
        "  gens.append((population[best], fitness[best])) #pun cel mai bun cromozom si fit-ul lui\n",
        "  while t<generations:\n",
        "    t=t+1\n",
        "    selection_pop = proportional_selection(elitism, population, fitness)\n",
        "    cross_pop = ord_crossover(pc, selection_pop)\n",
        "    population = mutation(pm, cross_pop)\n",
        "\n",
        "    fitness = find_fitness(population, G)\n",
        "    best = np.argmax(fitness)\n",
        "    if fitness[best] == old_best:\n",
        "      same.append((population[best], fitness[best])) \n",
        "      cnt=cnt+1\n",
        "    elif fitness[best] > old_best: \n",
        "      same = []\n",
        "      same.append((population[best], fitness[best]))\n",
        "      old_best = fitness[best]\n",
        "      cnt=1\n",
        "    gens.append((population[best], fitness[best]))\n",
        "\n",
        "  best_chrom = sorted(gens, key=lambda x: x[1], reverse=True)[0]\n",
        "  return best_chrom, gens, same\n",
        "    \n"
      ],
      "metadata": {
        "id": "ae-eiCaJclU6"
      },
      "execution_count": 431,
      "outputs": []
    },
    {
      "cell_type": "code",
      "source": [
        "best_chrom, gens, same = genetic_algorithm(G, 0.08, 0.4, 40, 200, 500)"
      ],
      "metadata": {
        "colab": {
          "base_uri": "https://localhost:8080/"
        },
        "id": "HbBSxcvCoGst",
        "outputId": "461871af-20ac-40d5-b172-9cc0a91a588a"
      },
      "execution_count": 506,
      "outputs": [
        {
          "output_type": "stream",
          "name": "stderr",
          "text": [
            "<ipython-input-343-32cba1659ccb>:2: DeprecationWarning: Sampling from a set deprecated\n",
            "since Python 3.9 and will be removed in a subsequent version.\n",
            "  route = random.sample(G.nodes,len(G.nodes)) #possibly random.choice for cerinta extra\n"
          ]
        }
      ]
    },
    {
      "cell_type": "code",
      "source": [
        "gens_final = sorted(gens, key=lambda x: x[1])\n",
        "print(\"Cel mai bun cromozom\", gens_final[-1][0])\n",
        "print(\"Fitness score-ul\", 1/float(gens_final[-1][1]))\n",
        "gens_plot = [(1/float(gens_final[i][1])) for i in range(0,len(gens_final))]\n",
        "plt.plot(gens_plot)\n",
        "plt.xlabel('Generation')\n",
        "plt.ylabel('Distance')\n",
        "plt.show()\n",
        "print(\"length same = \", len(same))\n",
        "for s in same:\n",
        "  print(s[0], 1/float(s[1]))\n",
        "print(sorted(gens_plot))"
      ],
      "metadata": {
        "colab": {
          "base_uri": "https://localhost:8080/",
          "height": 473
        },
        "id": "43o1XrUlor71",
        "outputId": "dbf5c464-65b0-498c-da4f-82d11bb825ae"
      },
      "execution_count": 507,
      "outputs": [
        {
          "output_type": "stream",
          "name": "stdout",
          "text": [
            "Cel mai bun cromozom [5, 21, 2, 18, 14, 17, 22, 11, 15, 16, 20, 10, 4, 19, 13, 25, 7, 23, 27, 8, 24, 1, 28, 9, 6, 12, 3, 26, 29]\n",
            "Fitness score-ul 1943.9999999999998\n"
          ]
        },
        {
          "output_type": "display_data",
          "data": {
            "text/plain": [
              "<Figure size 432x288 with 1 Axes>"
            ],
            "image/png": "[encoded data removed]"
          },
          "metadata": {
            "needs_background": "light"
          }
        },
        {
          "output_type": "stream",
          "name": "stdout",
          "text": [
            "length same =  6\n",
            "[5, 21, 2, 18, 14, 17, 22, 11, 15, 16, 20, 10, 4, 19, 13, 25, 7, 23, 27, 8, 24, 1, 28, 9, 6, 12, 3, 26, 29] 1943.9999999999998\n",
            "[5, 21, 2, 18, 14, 17, 22, 11, 15, 16, 20, 10, 4, 19, 13, 25, 7, 23, 27, 8, 24, 1, 28, 9, 6, 12, 3, 26, 29] 1943.9999999999998\n",
            "[5, 21, 2, 18, 14, 17, 22, 11, 15, 16, 20, 10, 4, 19, 13, 25, 7, 23, 27, 8, 24, 1, 28, 9, 6, 12, 3, 26, 29] 1943.9999999999998\n",
            "[5, 21, 2, 18, 14, 17, 22, 11, 15, 16, 20, 10, 4, 19, 13, 25, 7, 23, 27, 8, 24, 1, 28, 9, 6, 12, 3, 26, 29] 1943.9999999999998\n",
            "[5, 21, 2, 18, 14, 17, 22, 11, 15, 16, 20, 10, 4, 19, 13, 25, 7, 23, 27, 8, 24, 1, 28, 9, 6, 12, 3, 26, 29] 1943.9999999999998\n",
            "[5, 21, 2, 18, 14, 17, 22, 11, 15, 16, 20, 10, 4, 19, 13, 25, 7, 23, 27, 8, 24, 1, 28, 9, 6, 12, 3, 26, 29] 1943.9999999999998\n",
            "[1943.9999999999998, 1943.9999999999998, 1943.9999999999998, 1943.9999999999998, 1943.9999999999998, 1943.9999999999998, 1990.9999999999998, 1990.9999999999998, 1990.9999999999998, 1990.9999999999998, 2008.0, 2008.0, 2008.0, 2008.0, 2008.0, 2008.0, 2008.0, 2008.0, 2008.0, 2008.0, 2008.0, 2033.9999999999998, 2033.9999999999998, 2033.9999999999998, 2036.0000000000002, 2036.0000000000002, 2036.0000000000002, 2036.0000000000002, 2036.0000000000002, 2062.0, 2062.0, 2062.0, 2062.0, 2062.0, 2062.0, 2065.0, 2065.0, 2065.0, 2065.0, 2065.0, 2065.0, 2065.0, 2065.0, 2065.0, 2067.0, 2067.0, 2068.0, 2082.0, 2082.0, 2082.0, 2095.0, 2100.0, 2101.0, 2103.0, 2103.0, 2103.0, 2108.0, 2108.0, 2111.0, 2111.0, 2116.0, 2116.0, 2116.0, 2122.0, 2124.0, 2125.0, 2131.0, 2131.0, 2131.0, 2132.0, 2138.0, 2139.0, 2141.0, 2142.0, 2142.0, 2144.0, 2144.0, 2144.0, 2144.0, 2144.0, 2144.0, 2144.0, 2144.0, 2144.0, 2144.0, 2148.0, 2148.0, 2148.0, 2148.0, 2148.0, 2148.0, 2148.0, 2148.0, 2148.0, 2148.0, 2148.0, 2148.0, 2149.0, 2149.0, 2150.0, 2150.0, 2150.0, 2150.0, 2150.0, 2150.0, 2150.0, 2151.0, 2151.0, 2152.0, 2155.0, 2155.0, 2156.0, 2158.0, 2158.0, 2158.0, 2159.0, 2159.0, 2159.0, 2159.0, 2159.0, 2159.0, 2159.0, 2159.0, 2160.0, 2160.0, 2160.0, 2161.0, 2161.0, 2161.0, 2162.0, 2163.0, 2163.0, 2163.0, 2164.0, 2164.0, 2164.0, 2164.0, 2164.0, 2164.0, 2164.0, 2164.0, 2164.0, 2164.0, 2165.0, 2165.0, 2165.0, 2165.0, 2165.0, 2165.0, 2165.0, 2165.0, 2166.0, 2169.0, 2169.0, 2169.0, 2171.0, 2173.0, 2173.0, 2175.0, 2176.0, 2176.0, 2176.0, 2176.0, 2176.0, 2176.0, 2176.0, 2176.0, 2178.0, 2178.0, 2179.0, 2179.0, 2179.0, 2181.0, 2181.0, 2181.0, 2181.0, 2181.0, 2181.0, 2183.0, 2183.0, 2183.0, 2183.0, 2185.0, 2185.0, 2185.0, 2185.0, 2185.0, 2187.0, 2187.0, 2187.0, 2187.0, 2187.0, 2188.0, 2190.0, 2191.0, 2191.0, 2191.0, 2191.0, 2191.0, 2194.0, 2194.0, 2194.0, 2194.0, 2194.0, 2194.0, 2195.0, 2196.0, 2196.0, 2196.0, 2196.0, 2196.0, 2198.0, 2198.0, 2198.0, 2198.0, 2199.0, 2200.0, 2201.0, 2201.0, 2201.0, 2201.0, 2201.0, 2205.0, 2205.0, 2205.0, 2205.0, 2205.0, 2207.0, 2207.0, 2208.0, 2214.0, 2214.0, 2220.0, 2224.0, 2224.0, 2224.0, 2224.0, 2224.0, 2227.0, 2227.0, 2227.0, 2227.0, 2228.0, 2228.0, 2229.0, 2229.0, 2229.0, 2230.0, 2230.0, 2235.0, 2235.0, 2235.0, 2235.0, 2235.0, 2235.0, 2238.0, 2238.0, 2238.0, 2238.0, 2238.0, 2238.0, 2238.0, 2238.0, 2239.0, 2241.0, 2241.0, 2242.0, 2243.0, 2243.0, 2243.0, 2244.0, 2246.0, 2246.0, 2246.0, 2246.0, 2246.0, 2246.0, 2246.0, 2246.0, 2247.0, 2249.0, 2249.0, 2252.0, 2252.0, 2253.0, 2253.0, 2253.0, 2253.0, 2253.0, 2254.0, 2254.0, 2255.0, 2256.0, 2257.0, 2257.0, 2257.0, 2258.0, 2258.0, 2258.0, 2258.0, 2258.0, 2258.0, 2259.0, 2259.0, 2259.0, 2259.0, 2259.0, 2259.0, 2260.0, 2260.0, 2260.0, 2260.0, 2260.0, 2260.0, 2261.0, 2261.0, 2261.0, 2262.0, 2262.0, 2265.0, 2265.0, 2267.0, 2267.0, 2267.0, 2267.0, 2267.0, 2267.0, 2267.0, 2267.0, 2267.0, 2267.0, 2267.0, 2267.0, 2267.0, 2267.0, 2267.0, 2267.0, 2267.0, 2267.0, 2267.0, 2267.0, 2268.0, 2271.0, 2272.0, 2272.0, 2272.0, 2272.0, 2272.0, 2272.0, 2273.0, 2274.0, 2274.0, 2274.0, 2274.0, 2274.0, 2274.0, 2274.0, 2274.0, 2278.0, 2278.0, 2279.0, 2279.0, 2281.0, 2282.0, 2284.0, 2286.0, 2286.0, 2287.0, 2287.0, 2287.0, 2287.0, 2287.0, 2287.0, 2287.0, 2287.0, 2288.0, 2290.0, 2290.0, 2290.0, 2290.0, 2292.0, 2292.0, 2292.0, 2292.0, 2297.0, 2297.0, 2297.0, 2298.0, 2298.0, 2301.0, 2309.0, 2312.0, 2314.0, 2314.0, 2314.0, 2314.0, 2314.0, 2314.0, 2314.0, 2315.0, 2317.0, 2327.0, 2327.0, 2327.0, 2330.0, 2331.0, 2331.0, 2331.0, 2331.0, 2342.0, 2348.0, 2352.0, 2352.0, 2352.0, 2352.0, 2361.0, 2368.0, 2370.0, 2370.0, 2378.0, 2387.0, 2397.0, 2397.0, 2397.0, 2397.0, 2397.0, 2397.0, 2402.0, 2413.0, 2445.0, 2450.0, 2450.0, 2473.0, 2473.0, 2473.0, 2473.0, 2473.0, 2473.0, 2473.0, 2473.0, 2488.0, 2580.0, 2580.0, 2618.0, 2618.0, 2618.0, 2618.0, 2645.0, 2645.0, 2645.0, 2645.0, 2648.0, 2648.0, 2648.0, 2648.0, 2678.0, 2700.0, 2700.0, 2700.0, 2700.0, 2700.0, 2748.0, 2748.0, 2748.0, 2831.0, 2842.0, 2842.0, 2919.0, 2919.0, 2919.0, 3012.0, 3012.0, 3021.0, 3023.0, 3035.0, 3063.0, 3063.0, 3101.0, 3101.0, 3101.0, 3101.0, 3154.0, 3198.0, 3260.0, 3260.0, 3344.0, 3381.0000000000005, 3381.0000000000005, 3381.0000000000005, 3381.0000000000005, 3464.0, 3464.0, 3570.0000000000005, 3600.0, 3616.0, 3618.0, 3647.0000000000005, 3651.0, 3664.9999999999995, 3840.0, 3957.0000000000005]\n"
          ]
        }
      ]
    },
    {
      "cell_type": "code",
      "source": [
        "print(problem.node_coord_type)\n",
        "edges=[(gens_final[-1][0][i],gens_final[-1][0][i+1]) for i in range(len(gens_final[-1][0])-1)]\n",
        "edges.append((gens_final[-1][0][-1], gens_final[-1][0][0]))\n",
        "print(edges)"
      ],
      "metadata": {
        "colab": {
          "base_uri": "https://localhost:8080/"
        },
        "id": "tpyePu5_pqtz",
        "outputId": "fec7725b-709d-484a-e8fe-066a13a92b08"
      },
      "execution_count": 508,
      "outputs": [
        {
          "output_type": "stream",
          "name": "stdout",
          "text": [
            "None\n",
            "[(5, 21), (21, 2), (2, 18), (18, 14), (14, 17), (17, 22), (22, 11), (11, 15), (15, 16), (16, 20), (20, 10), (10, 4), (4, 19), (19, 13), (13, 25), (25, 7), (7, 23), (23, 27), (27, 8), (8, 24), (24, 1), (1, 28), (28, 9), (9, 6), (6, 12), (12, 3), (3, 26), (26, 29), (29, 5)]\n"
          ]
        }
      ]
    },
    {
      "cell_type": "code",
      "source": [
        "fig, ax = plt.subplots()\n",
        "nx.draw_networkx_nodes(G, pos=problem.node_coords,node_size=15, ax=ax, nodelist=gens_final[-1][0])\n",
        "nx.draw_networkx_edges(G, pos=problem.node_coords, ax=ax, edgelist=edges)\n",
        "plt.axis(\"on\")"
      ],
      "metadata": {
        "colab": {
          "base_uri": "https://localhost:8080/",
          "height": 265
        },
        "id": "DDica66Nz_Mq",
        "outputId": "56da7688-c6f3-4b74-a05d-7db4de802163"
      },
      "execution_count": 509,
      "outputs": [
        {
          "output_type": "execute_result",
          "data": {
            "text/plain": [
              "(-149.0, 2029.0, 311.0, 2489.0)"
            ]
          },
          "metadata": {},
          "execution_count": 509
        },
        {
          "output_type": "display_data",
          "data": {
            "text/plain": [
              "<Figure size 432x288 with 1 Axes>"
            ],
            "image/png": "[encoded data removed]"
          },
          "metadata": {}
        }
      ]
    },
    {
      "cell_type": "code",
      "source": [
        "problem.node_coords"
      ],
      "metadata": {
        "colab": {
          "base_uri": "https://localhost:8080/"
        },
        "id": "eFt2qngTyyiD",
        "outputId": "89ef023a-5fbd-437a-c3ab-28529098e8fd"
      },
      "execution_count": 356,
      "outputs": [
        {
          "output_type": "execute_result",
          "data": {
            "text/plain": [
              "{1: [1150.0, 1760.0],\n",
              " 2: [630.0, 1660.0],\n",
              " 3: [40.0, 2090.0],\n",
              " 4: [750.0, 1100.0],\n",
              " 5: [750.0, 2030.0],\n",
              " 6: [1030.0, 2070.0],\n",
              " 7: [1650.0, 650.0],\n",
              " 8: [1490.0, 1630.0],\n",
              " 9: [790.0, 2260.0],\n",
              " 10: [710.0, 1310.0],\n",
              " 11: [840.0, 550.0],\n",
              " 12: [1170.0, 2300.0],\n",
              " 13: [970.0, 1340.0],\n",
              " 14: [510.0, 700.0],\n",
              " 15: [750.0, 900.0],\n",
              " 16: [1280.0, 1200.0],\n",
              " 17: [230.0, 590.0],\n",
              " 18: [460.0, 860.0],\n",
              " 19: [1040.0, 950.0],\n",
              " 20: [590.0, 1390.0],\n",
              " 21: [830.0, 1770.0],\n",
              " 22: [490.0, 500.0],\n",
              " 23: [1840.0, 1240.0],\n",
              " 24: [1260.0, 1500.0],\n",
              " 25: [1280.0, 790.0],\n",
              " 26: [490.0, 2130.0],\n",
              " 27: [1460.0, 1420.0],\n",
              " 28: [1260.0, 1910.0],\n",
              " 29: [360.0, 1980.0]}"
            ]
          },
          "metadata": {},
          "execution_count": 356
        }
      ]
    },
    {
      "cell_type": "code",
      "source": [
        "matrix = np.loadtxt(\"/content/tsp_matrix.txt\", dtype='i')"
      ],
      "metadata": {
        "id": "nUorm7H9zcSe"
      },
      "execution_count": 510,
      "outputs": []
    },
    {
      "cell_type": "code",
      "source": [
        "print(matrix)"
      ],
      "metadata": {
        "colab": {
          "base_uri": "https://localhost:8080/"
        },
        "id": "dK4Whn1cRaDy",
        "outputId": "125696d9-d749-462a-88a4-926dec7d39f7"
      },
      "execution_count": 511,
      "outputs": [
        {
          "output_type": "stream",
          "name": "stdout",
          "text": [
            "[[ 0  1  2  4]\n",
            " [ 1  0  3 15]\n",
            " [ 2  3  0  6]\n",
            " [ 4 15  6  0]]\n"
          ]
        }
      ]
    },
    {
      "cell_type": "code",
      "source": [
        "G_easy_tsp = nx.from_numpy_array(matrix)"
      ],
      "metadata": {
        "id": "Akq7VwXpRbG-"
      },
      "execution_count": 512,
      "outputs": []
    },
    {
      "cell_type": "code",
      "source": [
        "print(G_easy_tsp)"
      ],
      "metadata": {
        "colab": {
          "base_uri": "https://localhost:8080/"
        },
        "id": "8CJe6fc4Re7k",
        "outputId": "4bb82f10-875e-4ed7-f65f-216f78e3bb6b"
      },
      "execution_count": 513,
      "outputs": [
        {
          "output_type": "stream",
          "name": "stdout",
          "text": [
            "Graph with 4 nodes and 6 edges\n"
          ]
        }
      ]
    },
    {
      "cell_type": "code",
      "source": [
        "best_chrom2, gens2, same2 = genetic_algorithm(G_easy_tsp, 0.08, 0.4, 40, 200, 500)"
      ],
      "metadata": {
        "colab": {
          "base_uri": "https://localhost:8080/"
        },
        "id": "cpsrNCcCRgVm",
        "outputId": "5306f385-8ad2-4dae-a02e-1fa7030da330"
      },
      "execution_count": 514,
      "outputs": [
        {
          "output_type": "stream",
          "name": "stderr",
          "text": [
            "<ipython-input-343-32cba1659ccb>:2: DeprecationWarning: Sampling from a set deprecated\n",
            "since Python 3.9 and will be removed in a subsequent version.\n",
            "  route = random.sample(G.nodes,len(G.nodes)) #possibly random.choice for cerinta extra\n"
          ]
        }
      ]
    },
    {
      "cell_type": "code",
      "source": [
        "print(best_chrom2[0], 1/float(best_chrom2[1]))"
      ],
      "metadata": {
        "colab": {
          "base_uri": "https://localhost:8080/"
        },
        "id": "962q9CHVRpsq",
        "outputId": "9af9eb90-6b06-42fc-969d-f0b9aaffbaa6"
      },
      "execution_count": 516,
      "outputs": [
        {
          "output_type": "stream",
          "name": "stdout",
          "text": [
            "[0, 3, 2, 1] 14.0\n"
          ]
        }
      ]
    },
    {
      "cell_type": "code",
      "source": [],
      "metadata": {
        "id": "hd0IVzE0Rt2m"
      },
      "execution_count": null,
      "outputs": []
    }
  ]
}