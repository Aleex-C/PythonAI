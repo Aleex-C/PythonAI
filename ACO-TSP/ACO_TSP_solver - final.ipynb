{
  "nbformat": 4,
  "nbformat_minor": 0,
  "metadata": {
    "colab": {
      "provenance": []
    },
    "kernelspec": {
      "name": "python3",
      "display_name": "Python 3"
    },
    "language_info": {
      "name": "python"
    }
  },
  "cells": [
    {
      "cell_type": "code",
      "execution_count": 1,
      "metadata": {
        "colab": {
          "base_uri": "https://localhost:8080/"
        },
        "id": "fT5EKolesPoQ",
        "outputId": "33ed82be-783e-40ac-d014-df779e62ea6a"
      },
      "outputs": [
        {
          "output_type": "stream",
          "name": "stdout",
          "text": [
            "Looking in indexes: https://pypi.org/simple, https://us-python.pkg.dev/colab-wheels/public/simple/\n",
            "Collecting tsplib95\n",
            "  Downloading tsplib95-0.7.1-py2.py3-none-any.whl (25 kB)\n",
            "Collecting Deprecated~=1.2.9\n",
            "  Downloading Deprecated-1.2.13-py2.py3-none-any.whl (9.6 kB)\n",
            "Collecting networkx~=2.1\n",
            "  Downloading networkx-2.8.8-py3-none-any.whl (2.0 MB)\n",
            "\u001b[2K     \u001b[90m━━━━━━━━━━━━━━━━━━━━━━━━━━━━━━━━━━━━━━━━\u001b[0m \u001b[32m2.0/2.0 MB\u001b[0m \u001b[31m15.6 MB/s\u001b[0m eta \u001b[36m0:00:00\u001b[0m\n",
            "\u001b[?25hRequirement already satisfied: Click>=6.0 in /usr/local/lib/python3.9/dist-packages (from tsplib95) (8.1.3)\n",
            "Requirement already satisfied: tabulate~=0.8.7 in /usr/local/lib/python3.9/dist-packages (from tsplib95) (0.8.10)\n",
            "Requirement already satisfied: wrapt<2,>=1.10 in /usr/local/lib/python3.9/dist-packages (from Deprecated~=1.2.9->tsplib95) (1.14.1)\n",
            "Installing collected packages: networkx, Deprecated, tsplib95\n",
            "  Attempting uninstall: networkx\n",
            "    Found existing installation: networkx 3.0\n",
            "    Uninstalling networkx-3.0:\n",
            "      Successfully uninstalled networkx-3.0\n",
            "Successfully installed Deprecated-1.2.13 networkx-2.8.8 tsplib95-0.7.1\n"
          ]
        }
      ],
      "source": [
        "!pip install tsplib95"
      ]
    },
    {
      "cell_type": "code",
      "source": [
        "import tsplib95 as tsp\n",
        "import networkx as nx\n",
        "import numpy as np\n",
        "import random\n",
        "import sys\n",
        "import itertools\n",
        "import bisect"
      ],
      "metadata": {
        "id": "sOjMAholtQfE"
      },
      "execution_count": 2,
      "outputs": []
    },
    {
      "cell_type": "code",
      "source": [
        "problem = tsp.load('/content/berlin52.txt')\n",
        "print(problem.name)\n",
        "G = problem.get_graph()\n",
        "print(G)"
      ],
      "metadata": {
        "colab": {
          "base_uri": "https://localhost:8080/"
        },
        "id": "v3nWIETfvZuH",
        "outputId": "5aa5a38d-372d-4c06-a4b6-fa98421a5eb8"
      },
      "execution_count": 62,
      "outputs": [
        {
          "output_type": "stream",
          "name": "stdout",
          "text": [
            "berlin52\n",
            "Graph named 'berlin52' with 52 nodes and 1378 edges\n"
          ]
        }
      ]
    },
    {
      "cell_type": "code",
      "source": [
        "class Solution:\n",
        "    def __init__(self, graph, start, ant=None):\n",
        "        self.graph = graph\n",
        "        self.start = start\n",
        "        self.ant = ant\n",
        "        self.current = start\n",
        "        self.cost = 0\n",
        "        self.path = []\n",
        "        self.visited = [start]\n",
        "\n",
        "    def __iter__(self):\n",
        "        return iter(self.path)\n",
        "\n",
        "    def __eq__(self, other):\n",
        "        return self.cost == other.cost\n",
        "\n",
        "    def __lt__(self, other):\n",
        "        return self.cost < other.cost\n",
        "\n",
        "    def __contains__(self, node):\n",
        "        return node in self.visited or node == self.current\n",
        "\n",
        "    def add_node(self, node):\n",
        "        self.visited.append(node)\n",
        "        self._add_node(node)\n",
        "\n",
        "    def close(self):\n",
        "        self._add_node(self.start)\n",
        "\n",
        "    def _add_node(self, node):\n",
        "        edge = self.current, node\n",
        "        data = self.graph.edges[edge]\n",
        "        self.path.append(edge)\n",
        "        self.cost += data['weight']\n",
        "        self.current = node\n",
        "\n",
        "\n",
        "class Solver:\n",
        "    def __init__(self, alpha=1, beta=3,rho=.03, q=1):\n",
        "        self.rho = rho\n",
        "        self.q = q\n",
        "        self.alpha=alpha\n",
        "        self.beta=beta\n",
        "\n",
        "    def solve_tsp(self, graph, iterations, gen_size):\n",
        "      colony = [Ant(self.alpha, self.beta) for _ in range(gen_size)]\n",
        "      best_cost = 99999999\n",
        "      for u, v in graph.edges:\n",
        "        graph.edges[u, v].setdefault('pheromone', 0.0001)\n",
        "\n",
        "      for i in range(iterations):\n",
        "        solutions = self.find_solutions(graph, colony)\n",
        "        self.global_update(graph, solutions)\n",
        "        possible_solution = sorted(solutions, key=lambda x: x.cost)[0]\n",
        "        if best_cost > possible_solution.cost:\n",
        "          best_cost = possible_solution.cost\n",
        "          best_solution = possible_solution\n",
        "        self.randomize_graph(graph)\n",
        "      return best_solution\n",
        "      \n",
        "\n",
        "    def find_solutions(self, graph, ants):\n",
        "        return [ant.tour(graph) for ant in ants]\n",
        "\n",
        "    def global_update(self, graph, solutions):\n",
        "        for edge in graph.edges:\n",
        "            amount = 0\n",
        "            for solution in solutions:\n",
        "                if edge in solution.path:\n",
        "                    amount += self.q / solution.cost\n",
        "            p = graph.edges[edge]['pheromone']\n",
        "            graph.edges[edge]['pheromone'] = (1 - self.rho) * p + amount\n",
        "    def randomize_graph(self, graph):\n",
        "      to_randomize=(len(graph.edges)*50)//100 #50 la suta din muchiile grafului\n",
        "      for i in range(to_randomize):\n",
        "        action = random.randint(0,2)\n",
        "        city_1 = random.randint(1,len(G.nodes))\n",
        "        city_2 = random.randint(1,len(G.nodes))\n",
        "        value = graph[city_1][city_2]['weight']\n",
        "        while city_2 == city_1:\n",
        "          city_2 = random.randint(1,len(G.nodes))\n",
        "        if action == 0: #trafic\n",
        "          graph[city_1][city_2]['weight'] = value + random.random() * graph[city_1][city_2]['weight']\n",
        "          graph[city_2][city_1]['weight'] = graph[city_1][city_2]['weight']\n",
        "        else: #faster\n",
        "          graph[city_1][city_2]['weight'] = value - value//2\n",
        "          graph[city_2][city_1]['weight'] = graph[city_1][city_2]['weight']\n",
        "\n"
      ],
      "metadata": {
        "id": "SJzmDZy6voIq"
      },
      "execution_count": 63,
      "outputs": []
    },
    {
      "cell_type": "code",
      "source": [
        "class Ant:\n",
        "    def __init__(self, alpha=1, beta=3):\n",
        "        self.alpha = alpha\n",
        "        self.beta = beta\n",
        "\n",
        "    def tour(self, graph):\n",
        "        solution = self.initialize_solution(graph)\n",
        "        unvisited = self.get_unvisited_nodes(graph, solution)\n",
        "        while unvisited:\n",
        "            node = self.choose_destination(graph, solution.current, unvisited)\n",
        "            solution.add_node(node)\n",
        "            unvisited.remove(node)\n",
        "        solution.close()\n",
        "        return solution\n",
        "\n",
        "    def initialize_solution(self, graph):\n",
        "        start = self.get_starting_node(graph)\n",
        "        return Solution(graph, start, ant=self)\n",
        "\n",
        "    def get_starting_node(self, graph):\n",
        "        return random.choice(list(graph.nodes))\n",
        "\n",
        "    def get_unvisited_nodes(self, graph, solution):\n",
        "        nodes = []\n",
        "        for node in graph[solution.current]:\n",
        "            if node not in solution:\n",
        "                nodes.append(node)\n",
        "        return nodes\n",
        "\n",
        "    def choose_destination(self, graph, current, unvisited):\n",
        "        if len(unvisited) == 1:\n",
        "            return unvisited[0]\n",
        "        scores = self.get_scores(graph, current, unvisited)\n",
        "        return self.choose_node(unvisited, scores)\n",
        "\n",
        "    def get_scores(self, graph, current, destinations):\n",
        "        scores = []\n",
        "        for node in destinations:\n",
        "            edge = graph.edges[current, node]\n",
        "            score = self.score_edge(edge)\n",
        "            scores.append(score)\n",
        "        return scores\n",
        "\n",
        "    def choose_node(self, choices, scores):\n",
        "        total = sum(scores)\n",
        "        cumdist = list(itertools.accumulate(scores)) + [total]\n",
        "        index = bisect.bisect(cumdist, random.random() * total)\n",
        "        return choices[min(index, len(choices) - 1)]\n",
        "\n",
        "    def score_edge(self, edge):\n",
        "        weight = edge['weight']\n",
        "        if weight == 0:\n",
        "            return sys.float_info.max\n",
        "        pre = 1 / weight\n",
        "        post = edge['pheromone']\n",
        "        return post ** self.alpha * pre ** self.beta"
      ],
      "metadata": {
        "id": "Gg3m6BK6tg0P"
      },
      "execution_count": 64,
      "outputs": []
    },
    {
      "cell_type": "code",
      "source": [
        "solver = Solver(5,1)\n",
        "print(G)\n",
        "G[1][2]['weight']=666\n",
        "print(G[1][2]['weight'])"
      ],
      "metadata": {
        "id": "pOEHM3NwvSXD",
        "colab": {
          "base_uri": "https://localhost:8080/"
        },
        "outputId": "daa0ef3f-5983-437d-a8de-a5cf78357fe8"
      },
      "execution_count": 68,
      "outputs": [
        {
          "output_type": "stream",
          "name": "stdout",
          "text": [
            "Graph named 'berlin52' with 52 nodes and 1378 edges\n",
            "666\n"
          ]
        }
      ]
    },
    {
      "cell_type": "code",
      "source": [
        "solution = solver.solve_tsp(G, 25, 100)"
      ],
      "metadata": {
        "id": "vy7n49WjvTyq"
      },
      "execution_count": 69,
      "outputs": []
    },
    {
      "cell_type": "code",
      "source": [
        "print(solution.path)\n",
        "print(solution.cost)"
      ],
      "metadata": {
        "colab": {
          "base_uri": "https://localhost:8080/"
        },
        "id": "J5HdCO3h1js6",
        "outputId": "8860cc2e-7e53-4f23-f3eb-f82087c5ca16"
      },
      "execution_count": 70,
      "outputs": [
        {
          "output_type": "stream",
          "name": "stdout",
          "text": [
            "[(32, 1), (1, 22), (22, 18), (18, 31), (31, 21), (21, 30), (30, 23), (23, 20), (20, 50), (50, 29), (29, 13), (13, 14), (14, 52), (52, 11), (11, 51), (51, 33), (33, 43), (43, 9), (9, 10), (10, 41), (41, 8), (8, 19), (19, 45), (45, 47), (47, 26), (26, 27), (27, 28), (28, 12), (12, 4), (4, 25), (25, 16), (16, 46), (46, 44), (44, 34), (34, 35), (35, 36), (36, 39), (39, 40), (40, 37), (37, 38), (38, 48), (48, 24), (24, 5), (5, 15), (15, 6), (6, 42), (42, 2), (2, 7), (7, 3), (3, 17), (17, 49), (49, 32)]\n",
            "67705.8630649685\n"
          ]
        }
      ]
    },
    {
      "cell_type": "markdown",
      "source": [
        "A solution for a280 on 100 ants colonies over 50 iterations\n",
        "\n",
        "![image](https://i.imgur.com/5NlI5JD.png)\n",
        "\n",
        "The optimal tour, as per heidelberg's official TSP solutions is 2579 which is quite close\n"
      ],
      "metadata": {
        "id": "btDsqbbdWiyd"
      }
    },
    {
      "cell_type": "code",
      "source": [],
      "metadata": {
        "id": "lPrdbHtZ2MSi"
      },
      "execution_count": null,
      "outputs": []
    }
  ]
}