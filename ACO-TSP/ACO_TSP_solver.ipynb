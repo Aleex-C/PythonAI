{
  "nbformat": 4,
  "nbformat_minor": 0,
  "metadata": {
    "colab": {
      "provenance": []
    },
    "kernelspec": {
      "name": "python3",
      "display_name": "Python 3"
    },
    "language_info": {
      "name": "python"
    }
  },
  "cells": [
    {
      "cell_type": "code",
      "execution_count": null,
      "metadata": {
        "colab": {
          "base_uri": "https://localhost:8080/"
        },
        "id": "fT5EKolesPoQ",
        "outputId": "3f100e11-046f-46f2-dc97-131040c93667"
      },
      "outputs": [
        {
          "output_type": "stream",
          "name": "stdout",
          "text": [
            "Looking in indexes: https://pypi.org/simple, https://us-python.pkg.dev/colab-wheels/public/simple/\n",
            "Collecting tsplib95\n",
            "  Downloading tsplib95-0.7.1-py2.py3-none-any.whl (25 kB)\n",
            "Requirement already satisfied: Click>=6.0 in /usr/local/lib/python3.9/dist-packages (from tsplib95) (8.1.3)\n",
            "Collecting networkx~=2.1\n",
            "  Downloading networkx-2.8.8-py3-none-any.whl (2.0 MB)\n",
            "\u001b[2K     \u001b[90m━━━━━━━━━━━━━━━━━━━━━━━━━━━━━━━━━━━━━━━━\u001b[0m \u001b[32m2.0/2.0 MB\u001b[0m \u001b[31m47.9 MB/s\u001b[0m eta \u001b[36m0:00:00\u001b[0m\n",
            "\u001b[?25hRequirement already satisfied: tabulate~=0.8.7 in /usr/local/lib/python3.9/dist-packages (from tsplib95) (0.8.10)\n",
            "Collecting Deprecated~=1.2.9\n",
            "  Downloading Deprecated-1.2.13-py2.py3-none-any.whl (9.6 kB)\n",
            "Requirement already satisfied: wrapt<2,>=1.10 in /usr/local/lib/python3.9/dist-packages (from Deprecated~=1.2.9->tsplib95) (1.14.1)\n",
            "Installing collected packages: networkx, Deprecated, tsplib95\n",
            "  Attempting uninstall: networkx\n",
            "    Found existing installation: networkx 3.0\n",
            "    Uninstalling networkx-3.0:\n",
            "      Successfully uninstalled networkx-3.0\n",
            "Successfully installed Deprecated-1.2.13 networkx-2.8.8 tsplib95-0.7.1\n"
          ]
        }
      ],
      "source": [
        "!pip install tsplib95"
      ]
    },
    {
      "cell_type": "code",
      "source": [
        "import tsplib95 as tsp\n",
        "import networkx as nx\n",
        "import numpy as np\n",
        "import random\n",
        "import sys\n",
        "import itertools\n",
        "import bisect"
      ],
      "metadata": {
        "id": "sOjMAholtQfE"
      },
      "execution_count": null,
      "outputs": []
    },
    {
      "cell_type": "code",
      "source": [
        "problem = tsp.load('/content/berlin52.txt')\n",
        "print(problem.name)\n",
        "G = problem.get_graph()\n",
        "print(G)"
      ],
      "metadata": {
        "colab": {
          "base_uri": "https://localhost:8080/"
        },
        "id": "v3nWIETfvZuH",
        "outputId": "cd15fd13-c635-431b-90be-54360d1dbc83"
      },
      "execution_count": null,
      "outputs": [
        {
          "output_type": "stream",
          "name": "stdout",
          "text": [
            "berlin52\n",
            "Graph named 'berlin52' with 52 nodes and 1378 edges\n"
          ]
        }
      ]
    },
    {
      "cell_type": "code",
      "source": [
        "class Solution:\n",
        "    def __init__(self, graph, start, ant=None):\n",
        "        self.graph = graph\n",
        "        self.start = start\n",
        "        self.ant = ant\n",
        "        self.current = start\n",
        "        self.cost = 0\n",
        "        self.path = []\n",
        "        self.nodes = [start]\n",
        "        self.visited = set(self.nodes)\n",
        "\n",
        "    def __iter__(self):\n",
        "        return iter(self.path)\n",
        "\n",
        "    def __eq__(self, other):\n",
        "        return self.cost == other.cost\n",
        "\n",
        "    def __lt__(self, other):\n",
        "        return self.cost < other.cost\n",
        "\n",
        "    def __contains__(self, node):\n",
        "        return node in self.visited or node == self.current\n",
        "\n",
        "    def add_node(self, node):\n",
        "        self.nodes.append(node)\n",
        "        self.visited.add(node)\n",
        "        self._add_node(node)\n",
        "\n",
        "    def close(self):\n",
        "        self._add_node(self.start)\n",
        "\n",
        "    def _add_node(self, node):\n",
        "        edge = self.current, node\n",
        "        data = self.graph.edges[edge]\n",
        "        self.path.append(edge)\n",
        "        self.cost += data['weight']\n",
        "        self.current = node\n",
        "\n",
        "\n",
        "class Solver:\n",
        "    def __init__(self, alpha=1, beta=3,rho=.03, q=1):\n",
        "        self.rho = rho\n",
        "        self.q = q\n",
        "        self.alpha=alpha\n",
        "        self.beta=beta\n",
        "\n",
        "    def solve_tsp(self, graph, iterations, gen_size):\n",
        "      colony = [Ant(self.alpha, self.beta) for _ in range(gen_size)]\n",
        "      best_cost = 99999999\n",
        "      for u, v in graph.edges:\n",
        "        graph.edges[u, v].setdefault('pheromone', 0.0001)\n",
        "\n",
        "      for i in range(iterations):\n",
        "        solutions = self.find_solutions(graph, colony)\n",
        "        self.global_update(graph, solutions)\n",
        "        possible_solution = sorted(solutions, key=lambda x: x.cost)[0]\n",
        "        if best_cost > possible_solution.cost:\n",
        "          best_cost = possible_solution.cost\n",
        "          best_solution = possible_solution\n",
        "      return best_solution\n",
        "      \n",
        "\n",
        "    def find_solutions(self, graph, ants):\n",
        "        return [ant.tour(graph) for ant in ants]\n",
        "\n",
        "    def global_update(self, graph, solutions):\n",
        "        for edge in graph.edges:\n",
        "            amount = 0\n",
        "            for solution in solutions:\n",
        "                if edge in solution.path:\n",
        "                    amount += self.q / solution.cost\n",
        "            p = graph.edges[edge]['pheromone']\n",
        "            graph.edges[edge]['pheromone'] = (1 - self.rho) * p + amount"
      ],
      "metadata": {
        "id": "SJzmDZy6voIq"
      },
      "execution_count": null,
      "outputs": []
    },
    {
      "cell_type": "code",
      "source": [
        "class Ant:\n",
        "    def __init__(self, alpha=1, beta=3):\n",
        "        self.alpha = alpha\n",
        "        self.beta = beta\n",
        "\n",
        "    def tour(self, graph):\n",
        "        solution = self.initialize_solution(graph)\n",
        "        unvisited = self.get_unvisited_nodes(graph, solution)\n",
        "        while unvisited:\n",
        "            node = self.choose_destination(graph, solution.current, unvisited)\n",
        "            solution.add_node(node)\n",
        "            unvisited.remove(node)\n",
        "        solution.close()\n",
        "        return solution\n",
        "\n",
        "    def initialize_solution(self, graph):\n",
        "        start = self.get_starting_node(graph)\n",
        "        return Solution(graph, start, ant=self)\n",
        "\n",
        "    def get_starting_node(self, graph):\n",
        "        return random.choice(list(graph.nodes))\n",
        "\n",
        "    def get_unvisited_nodes(self, graph, solution):\n",
        "        nodes = []\n",
        "        for node in graph[solution.current]:\n",
        "            if node not in solution:\n",
        "                nodes.append(node)\n",
        "        return nodes\n",
        "\n",
        "    def choose_destination(self, graph, current, unvisited):\n",
        "        if len(unvisited) == 1:\n",
        "            return unvisited[0]\n",
        "        scores = self.get_scores(graph, current, unvisited)\n",
        "        return self.choose_node(unvisited, scores)\n",
        "\n",
        "    def get_scores(self, graph, current, destinations):\n",
        "        scores = []\n",
        "        for node in destinations:\n",
        "            edge = graph.edges[current, node]\n",
        "            score = self.score_edge(edge)\n",
        "            scores.append(score)\n",
        "        return scores\n",
        "\n",
        "    def choose_node(self, choices, scores):\n",
        "        total = sum(scores)\n",
        "        cumdist = list(itertools.accumulate(scores)) + [total]\n",
        "        index = bisect.bisect(cumdist, random.random() * total)\n",
        "        return choices[min(index, len(choices) - 1)]\n",
        "\n",
        "    def score_edge(self, edge):\n",
        "        weight = edge.get('weight', 1)\n",
        "        if weight == 0:\n",
        "            return sys.float_info.max\n",
        "        pre = 1 / weight\n",
        "        post = edge['pheromone']\n",
        "        return post ** self.alpha * pre ** self.beta"
      ],
      "metadata": {
        "id": "Gg3m6BK6tg0P"
      },
      "execution_count": null,
      "outputs": []
    },
    {
      "cell_type": "code",
      "source": [
        "solver = Solver()"
      ],
      "metadata": {
        "id": "pOEHM3NwvSXD"
      },
      "execution_count": null,
      "outputs": []
    },
    {
      "cell_type": "code",
      "source": [
        "solution = solver.solve_tsp(G, 50, 100)"
      ],
      "metadata": {
        "id": "vy7n49WjvTyq"
      },
      "execution_count": null,
      "outputs": []
    },
    {
      "cell_type": "code",
      "source": [
        "print(solution.path)\n",
        "print(solution.cost)"
      ],
      "metadata": {
        "colab": {
          "base_uri": "https://localhost:8080/"
        },
        "id": "J5HdCO3h1js6",
        "outputId": "fb1abb86-70a3-4d68-d418-86b3b2778b08"
      },
      "execution_count": null,
      "outputs": [
        {
          "output_type": "stream",
          "name": "stdout",
          "text": [
            "[(24, 48), (48, 38), (38, 15), (15, 5), (5, 6), (6, 4), (4, 25), (25, 12), (12, 28), (28, 27), (27, 26), (26, 47), (47, 14), (14, 13), (13, 52), (52, 11), (11, 51), (51, 33), (33, 43), (43, 10), (10, 9), (9, 8), (8, 41), (41, 19), (19, 45), (45, 32), (32, 49), (49, 1), (1, 22), (22, 31), (31, 18), (18, 3), (3, 17), (17, 21), (21, 30), (30, 2), (2, 7), (7, 42), (42, 23), (23, 20), (20, 50), (50, 16), (16, 29), (29, 46), (46, 44), (44, 34), (34, 35), (35, 36), (36, 39), (39, 40), (40, 37), (37, 24)]\n",
            "7911\n"
          ]
        }
      ]
    },
    {
      "cell_type": "code",
      "source": [],
      "metadata": {
        "id": "lPrdbHtZ2MSi"
      },
      "execution_count": null,
      "outputs": []
    }
  ]
}