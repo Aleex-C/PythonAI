{
 "cells": [
  {
   "cell_type": "code",
   "execution_count": 65,
   "metadata": {
    "collapsed": true
   },
   "outputs": [],
   "source": [
    "import networkx as nx\n",
    "import numpy as np\n",
    "import scipy as sp\n",
    "import random"
   ]
  },
  {
   "cell_type": "code",
   "execution_count": 65,
   "outputs": [],
   "source": [],
   "metadata": {
    "collapsed": false
   }
  },
  {
   "cell_type": "code",
   "execution_count": 66,
   "outputs": [],
   "source": [
    "def create_population(m,A):\n",
    "    # creare populatie initiala\n",
    "    # fiecare cromozom este un array de lungimea nodurilor grafului\n",
    "    # e SIGUR doar daca pe pozitia j (sursa) si valoarea din j (destinatia) exista (sunt conectate)\n",
    "    # si in matricea de adiacenta a grafului\n",
    "    n = A.shape[0] # no of rows\n",
    "    population= np.random.randint(0,n,(m,n)) #genereaza m cromozmi\n",
    "\n",
    "    for i in range(m):\n",
    "        for j in range(n):\n",
    "            #check if the chromosome is SAFE (i.e 'the edges are connected in the graph and it's not PURELY random\n",
    "            #verificam daca un cromozm este SIGUR (i.e „muchiile (corespunzatoare reprezentarii cromozomului) in graf sunt conectate”)\n",
    "\n",
    "            d = population[i,j]\n",
    "            if (A[j,d] != 1):\n",
    "                # dacă nu e safe, atunci ”îl facem safe”\n",
    "                neighs = []\n",
    "                for k in range(n):\n",
    "                    if (A[j,k]!=0): neighs.append(k)\n",
    "\n",
    "                pos = random.randint(0,len(neighs)-1)\n",
    "                population[i,j] = neighs[pos]\n",
    "\n",
    "    return population\n",
    "def greedyCommunitiesDetection(G):\n",
    "    # algoritm de calcularea modularitatii pentru Fast Newman (comparisom reasons)\n",
    "    c = list(nx.algorithms.community.modularity_max.greedy_modularity_communities(G))\n",
    "    mm_G = []\n",
    "    for i,j in enumerate(c):\n",
    "        a = list(j)\n",
    "        mm_G.append(a)\n",
    "    per = nx.algorithms.community.quality.modularity(G,mm_G)\n",
    "    num_G = len(mm_G)\n",
    "    return  num_G, per"
   ],
   "metadata": {
    "collapsed": false
   }
  },
  {
   "cell_type": "code",
   "execution_count": 67,
   "outputs": [],
   "source": [
    "def find_connected_subgraphs(G):\n",
    "    #subgrafurile din G\n",
    "    return list(G.subgraph(c) for c in nx.connected_components(G))\n",
    "\n",
    "def find_fitness(population,r,A):\n",
    "    # Calculate fitness of chromosomes\n",
    "    m,n = population.shape\n",
    "    fits = []\n",
    "    for i in range(m):\n",
    "        #matricea de adiacenta a cromozomului\n",
    "        adj = np.zeros((n,n))\n",
    "        for j in range(n):\n",
    "            adj[j,int(population[i,j])] = 1\n",
    "            adj[int(population[i,j]),j] = 1\n",
    "        # graful cromozomului\n",
    "        G = nx.from_numpy_array(adj)\n",
    "        #subgrafurile din cromozom\n",
    "        subgraphs = find_connected_subgraphs(G)\n",
    "        #comunitatile formate ca atare din subgrafuri\n",
    "        coms = [list(subgraph.nodes()) for subgraph in subgraphs]\n",
    "\n",
    "        # Formula 1: Fitness bazat pe formula din Clara Pizzuti, 2008 `GA-Net`\n",
    "        # extra info in articol\n",
    "        CS = 0\n",
    "        for com in coms:\n",
    "            row_idx = np.array(com)\n",
    "            col_idx =  np.array(com)\n",
    "            #submatricea S = (I,J) unde I un sub-set de randuri din A si J subset de coloane\n",
    "            # din A;\n",
    "            # vs = sum(sum(a_ij)) - adica numarul de 1 din aceasta submatrice\n",
    "            sub = A[row_idx[:, None], col_idx]\n",
    "            vs = sum(sum(sub))\n",
    "            # power mean of S of order r -> M(S)\n",
    "            # (suma valoriilor medii fiecarui rand din S)^r / nr de randuri\n",
    "            M = sum(np.power(np.mean(sub,axis=1),r))/len(sub)\n",
    "\n",
    "            CS = CS + M*vs\n",
    "\n",
    "        fits.append(CS)\n",
    "\n",
    "    return fits"
   ],
   "metadata": {
    "collapsed": false
   }
  },
  {
   "cell_type": "code",
   "execution_count": 68,
   "outputs": [],
   "source": [
    "def proportional_selection(elite, population, fit ):\n",
    "    # Alegem cu selectia ruleta (sau proportionala cu fitness-ul)\n",
    "    # selectia tine cont si de cromozomii care prezinta un fitness bun ( 10% in GA-Net)\n",
    "    elites = np.argsort(fit)\n",
    "    new_pop = np.zeros(population.shape)\n",
    "\n",
    "    p = []\n",
    "    s = sum(fit)\n",
    "    for fit_score in fit:\n",
    "        # fitness-urile relative\n",
    "        p.append(fit_score/s)\n",
    "\n",
    "    for i in range(1,elite+1):\n",
    "        #punem \"the elites\"\n",
    "        pos = elites[-i]\n",
    "        new_pop[i-1,:] = population[pos,:]\n",
    "\n",
    "    for i in range(elite,population.shape[0]):\n",
    "        #facem \"ruleta\"\n",
    "        # generam random o valoare in intervalul [0, 1]\n",
    "        x = random.uniform(0,1)\n",
    "        k=0\n",
    "        while k<population.shape[0]-1 and x > sum(p[0:k]):\n",
    "            #daca \"ruleta\" pica in spatiul (cumulat) al fitness-ului relativ, atunci alegem drept candidat acest cromozom\n",
    "            # daca nu, \"ruleta merge\"\n",
    "            k=k+1\n",
    "\n",
    "        new_pop[i,:] = population[k,:]\n",
    "\n",
    "    return new_pop"
   ],
   "metadata": {
    "collapsed": false
   }
  },
  {
   "cell_type": "code",
   "execution_count": 69,
   "outputs": [],
   "source": [
    "def crossover(pc, population):\n",
    "    # Imperechere uniforma\n",
    "    # rata de imperechere (0.8) in GA-Net\n",
    "    \"\"\"\n",
    "    Siguranta din spatele \"uniform-crossover\"\n",
    "    We used uniform crossover because it guarantees the maintenance\n",
    "of the effective connections of the nodes in the social network in the child individual.\n",
    "In fact, because of the biased initialization, each individual in the population is safe,\n",
    "that is it has the property, that if a gene i contains a value j, then the edge (i, j) exists.\n",
    "Thus, given two safe parents, a random binary vector is created. Uniform crossover then\n",
    "selects the genes where the vector is a 1 from the first parent, and the genes where the\n",
    "vector is a 0 from the second parent, and combines the genes to form the child. The\n",
    "child at each position i contains a value j coming from one of the two parents. Thus\n",
    "the edge (i, j) exists. This implies that from two safe parents a safe child is generated\n",
    "    \"\"\"\n",
    "    new_pop = np.zeros(population.shape)\n",
    "    for i in range(population.shape[0]):\n",
    "        if random.uniform(0,1) < pc:\n",
    "            chroms = np.zeros((2,population.shape[1]))\n",
    "            chroms[0,:] = population[i,:]\n",
    "            parent2 = random.randint(0,population.shape[0]-1)\n",
    "            chroms[1,:] = population[parent2,:]\n",
    "            mask = np.random.randint(0,2,(population.shape[1]))\n",
    "\n",
    "            for j in range(len(mask)):\n",
    "                #offspringul (new_pop[i,j] va fi o imperechere uniforma intre\n",
    "                # parent1 (chroms cu mask[j]=0)\n",
    "                # si parent2 (chroms cu mask[j] = 1)\n",
    "                new_pop[i,j] = chroms[mask[j],j]\n",
    "\n",
    "        else:\n",
    "            new_pop[i,:] = population[i,:]\n",
    "\n",
    "    return new_pop"
   ],
   "metadata": {
    "collapsed": false
   }
  },
  {
   "cell_type": "code",
   "execution_count": 70,
   "outputs": [],
   "source": [
    "def mutation(pm, population, A):\n",
    "    # Aplicam o mutatie pe un index random din cromozom, dar trebuie sa \"pastram\" siguranta\n",
    "    # pm - rata de mutatie\n",
    "    for i in range(population.shape[0]):\n",
    "        if random.uniform(0,1) < pm:\n",
    "            pos = random.randint(0, population.shape[1]-1)\n",
    "            neighs = []\n",
    "            for k in range(A.shape[1]):\n",
    "                if A[pos,k] != 0: neighs.append(k)\n",
    "\n",
    "            new_genoid = neighs[random.randint(0,len(neighs)-1)]\n",
    "\n",
    "            population[i,pos] = new_genoid\n",
    "\n",
    "    return population"
   ],
   "metadata": {
    "collapsed": false
   }
  },
  {
   "cell_type": "code",
   "execution_count": 71,
   "outputs": [],
   "source": [
    "def get_coms(chrom):\n",
    "    n = len(chrom)\n",
    "    adj = np.zeros((n,n))\n",
    "    for j in range(n):\n",
    "        adj[j,int(chrom[j])] = 1\n",
    "        adj[int(chrom[j]),j] = 1\n",
    "\n",
    "    G = nx.from_numpy_array(adj)\n",
    "\n",
    "    subgraphs = find_connected_subgraphs(G)\n",
    "\n",
    "    coms = [list(subgraph.nodes()) for subgraph in subgraphs]\n",
    "\n",
    "    return coms"
   ],
   "metadata": {
    "collapsed": false
   }
  },
  {
   "cell_type": "code",
   "execution_count": 71,
   "outputs": [],
   "source": [],
   "metadata": {
    "collapsed": false
   }
  },
  {
   "cell_type": "code",
   "execution_count": 72,
   "outputs": [],
   "source": [
    "\"\"\"\n",
    "    Parametrii:\n",
    "        - G -> Graph\n",
    "        - m -> marimea populatiei\n",
    "        - elitism -> numarul de cromozomi \"elita\" (pe care sa ii adaugam la fiecare \"selectie\")\n",
    "        - r -> exponentul r pentru functia de fitness\n",
    "        - pc -> probabilitatea de \"crossover\"\n",
    "        - pm -> probabilitatea de \"mutatie\"\n",
    "    Output:\n",
    "        - best_chrom -> cel mai bun cromozom din toate generatiile\n",
    "        - coms: comunitatile detectate din acest cromozom\n",
    "\"\"\"\n",
    "\n",
    "def genetic_algorithm(G,m,elitism,r,pc,pm,verb):\n",
    "    #matricea de adiacenta\n",
    "    A = nx.to_numpy_array(G)\n",
    "    gens = []\n",
    "    t=0\n",
    "\n",
    "    population = create_population(m,A)\n",
    "    fit = find_fitness(population,r,A)\n",
    "\n",
    "    best = np.argmax(fit) #indicele celui mai fit cromozom\n",
    "    cnt = 1\n",
    "    old_best = fit[best] #cel mai fit cromozom atm\n",
    "    gens.append((population[best,:], fit[best])) #pun cel mai bun cromozom si fit-ul lui\n",
    "\n",
    "    while t<30 and cnt<=5:\n",
    "        #rulez algoritmul pe 30 de generatii\n",
    "        #sau pana cand cel mai fit cromozom nu se schimba (in 5 generatii)\n",
    "        t=t+1\n",
    "        sel_pop = proportional_selection(elitism, population, fit)\n",
    "        cross_pop = crossover(pc, sel_pop)\n",
    "        population = mutation(pm, cross_pop,A)\n",
    "\n",
    "        fit = find_fitness(population,r,A)\n",
    "\n",
    "        best = np.argmax(fit)\n",
    "\n",
    "        if fit[best] == old_best: cnt=cnt+1\n",
    "        else:\n",
    "            old_best = fit[best]\n",
    "            cnt=1\n",
    "\n",
    "        gens.append((population[best,:], fit[best]))\n",
    "\n",
    "    #sortez dupa fitness function (x[1]) si returnez cel mai fit cromozom\n",
    "    best_chrom = sorted(gens, key=lambda x: x[1], reverse=True)[0]\n",
    "    #caut comunitatile celui mai fit cromozm\n",
    "    coms = get_coms(best_chrom[0])\n",
    "\n",
    "    return best_chrom, coms"
   ],
   "metadata": {
    "collapsed": false
   }
  },
  {
   "cell_type": "code",
   "execution_count": 73,
   "outputs": [],
   "source": [
    "# Import real topologies\n",
    "\n",
    "dolphins_gml = nx.read_gml(\"dolphins.gml\", label='id')\n",
    "football_gml = nx.read_gml(\"football.gml\", label='id')\n",
    "karate_gml = nx.read_gml(\"karate.gml\", label='id')\n",
    "krebs_gml = nx.read_gml(\"krebs.gml\", label='id')\n",
    "map_edge = nx.read_edgelist(\"map.edge\")\n",
    "name_edge = nx.read_edgelist(\"name.edge\")\n",
    "got_graphml = nx.read_graphml(\"got.gml\")\n",
    "lesmis_gml = nx.read_gml(\"lesmis.gml\")\n",
    "\n",
    "def conv2int(G,start_value):\n",
    "    nG = nx.convert_node_labels_to_integers(G, first_label=start_value)\n",
    "    return nG\n",
    "\n",
    "dolphins = conv2int(dolphins_gml,0)\n",
    "football = conv2int(football_gml,0)\n",
    "karate = conv2int(karate_gml,0)\n",
    "krebs = conv2int(krebs_gml,0)\n",
    "map = conv2int(map_edge, 0)\n",
    "name = conv2int(name_edge, 0)\n",
    "got = conv2int(got_graphml, 0)\n",
    "lesmis = conv2int(lesmis_gml, 0)\n",
    "# modularity for GA community detection algorithm\n",
    "def compute_modularity(G, G_results):\n",
    "    mod = nx.algorithms.community.quality.modularity(G,G_results)\n",
    "    n_coms = len(G_results)\n",
    "    return n_coms, mod\n",
    "def run_genetic(G,m,elite,r,pc,pm,verb):\n",
    "    best_fit = 0\n",
    "    best_coms = None\n",
    "    for i in range(len(pc)):\n",
    "        for j in range(len(pm)):\n",
    "            for k in range(len(elite)):\n",
    "                best, nodes = genetic_algorithm(G, m, elite[k] , r, pc[i], pm[j], verb)\n",
    "\n",
    "                if best[1] > best_fit:\n",
    "                    best_fit = best[1]\n",
    "                    best_coms = nodes\n",
    "\n",
    "    return best_coms"
   ],
   "metadata": {
    "collapsed": false
   }
  },
  {
   "cell_type": "code",
   "execution_count": 78,
   "outputs": [
    {
     "ename": "KeyboardInterrupt",
     "evalue": "",
     "output_type": "error",
     "traceback": [
      "\u001B[1;31m---------------------------------------------------------------------------\u001B[0m",
      "\u001B[1;31mKeyboardInterrupt\u001B[0m                         Traceback (most recent call last)",
      "Cell \u001B[1;32mIn[78], line 11\u001B[0m\n\u001B[0;32m      8\u001B[0m got_coms \u001B[38;5;241m=\u001B[39m run_genetic(got, \u001B[38;5;241m300\u001B[39m, elitism_values, \u001B[38;5;241m1\u001B[39m, pc_values, pm_values, \u001B[38;5;241m0\u001B[39m)\n\u001B[0;32m      9\u001B[0m got_gen_num, got_gen_mod \u001B[38;5;241m=\u001B[39m compute_modularity(got, got_coms)\n\u001B[1;32m---> 11\u001B[0m dolphins_coms \u001B[38;5;241m=\u001B[39m \u001B[43mrun_genetic\u001B[49m\u001B[43m(\u001B[49m\u001B[43mdolphins\u001B[49m\u001B[43m,\u001B[49m\u001B[43m \u001B[49m\u001B[38;5;241;43m300\u001B[39;49m\u001B[43m,\u001B[49m\u001B[43m \u001B[49m\u001B[43melitism_values\u001B[49m\u001B[43m,\u001B[49m\u001B[43m \u001B[49m\u001B[38;5;241;43m0.5\u001B[39;49m\u001B[43m,\u001B[49m\u001B[43m \u001B[49m\u001B[43mpc_values\u001B[49m\u001B[43m,\u001B[49m\u001B[43m \u001B[49m\u001B[43mpm_values\u001B[49m\u001B[43m,\u001B[49m\u001B[43m \u001B[49m\u001B[38;5;241;43m0\u001B[39;49m\u001B[43m)\u001B[49m\n\u001B[0;32m     12\u001B[0m football_coms \u001B[38;5;241m=\u001B[39m run_genetic(football, \u001B[38;5;241m300\u001B[39m, elitism_values, \u001B[38;5;241m0.5\u001B[39m, pc_values, pm_values, \u001B[38;5;241m0\u001B[39m)\n\u001B[0;32m     13\u001B[0m krebs_coms \u001B[38;5;241m=\u001B[39m run_genetic(krebs, \u001B[38;5;241m300\u001B[39m, elitism_values, \u001B[38;5;241m0.5\u001B[39m, pc_values, pm_values, \u001B[38;5;241m0\u001B[39m)\n",
      "Cell \u001B[1;32mIn[73], line 35\u001B[0m, in \u001B[0;36mrun_genetic\u001B[1;34m(G, m, elite, r, pc, pm, verb)\u001B[0m\n\u001B[0;32m     33\u001B[0m \u001B[38;5;28;01mfor\u001B[39;00m j \u001B[38;5;129;01min\u001B[39;00m \u001B[38;5;28mrange\u001B[39m(\u001B[38;5;28mlen\u001B[39m(pm)):\n\u001B[0;32m     34\u001B[0m     \u001B[38;5;28;01mfor\u001B[39;00m k \u001B[38;5;129;01min\u001B[39;00m \u001B[38;5;28mrange\u001B[39m(\u001B[38;5;28mlen\u001B[39m(elite)):\n\u001B[1;32m---> 35\u001B[0m         best, nodes \u001B[38;5;241m=\u001B[39m \u001B[43mgenetic_algorithm\u001B[49m\u001B[43m(\u001B[49m\u001B[43mG\u001B[49m\u001B[43m,\u001B[49m\u001B[43m \u001B[49m\u001B[43mm\u001B[49m\u001B[43m,\u001B[49m\u001B[43m \u001B[49m\u001B[43melite\u001B[49m\u001B[43m[\u001B[49m\u001B[43mk\u001B[49m\u001B[43m]\u001B[49m\u001B[43m \u001B[49m\u001B[43m,\u001B[49m\u001B[43m \u001B[49m\u001B[43mr\u001B[49m\u001B[43m,\u001B[49m\u001B[43m \u001B[49m\u001B[43mpc\u001B[49m\u001B[43m[\u001B[49m\u001B[43mi\u001B[49m\u001B[43m]\u001B[49m\u001B[43m,\u001B[49m\u001B[43m \u001B[49m\u001B[43mpm\u001B[49m\u001B[43m[\u001B[49m\u001B[43mj\u001B[49m\u001B[43m]\u001B[49m\u001B[43m,\u001B[49m\u001B[43m \u001B[49m\u001B[43mverb\u001B[49m\u001B[43m)\u001B[49m\n\u001B[0;32m     37\u001B[0m         \u001B[38;5;28;01mif\u001B[39;00m best[\u001B[38;5;241m1\u001B[39m] \u001B[38;5;241m>\u001B[39m best_fit:\n\u001B[0;32m     38\u001B[0m             best_fit \u001B[38;5;241m=\u001B[39m best[\u001B[38;5;241m1\u001B[39m]\n",
      "Cell \u001B[1;32mIn[72], line 36\u001B[0m, in \u001B[0;36mgenetic_algorithm\u001B[1;34m(G, m, elitism, r, pc, pm, verb)\u001B[0m\n\u001B[0;32m     33\u001B[0m cross_pop \u001B[38;5;241m=\u001B[39m crossover(pc, sel_pop)\n\u001B[0;32m     34\u001B[0m population \u001B[38;5;241m=\u001B[39m mutation(pm, cross_pop,A)\n\u001B[1;32m---> 36\u001B[0m fit \u001B[38;5;241m=\u001B[39m \u001B[43mfind_fitness\u001B[49m\u001B[43m(\u001B[49m\u001B[43mpopulation\u001B[49m\u001B[43m,\u001B[49m\u001B[43mr\u001B[49m\u001B[43m,\u001B[49m\u001B[43mA\u001B[49m\u001B[43m)\u001B[49m\n\u001B[0;32m     38\u001B[0m best \u001B[38;5;241m=\u001B[39m np\u001B[38;5;241m.\u001B[39margmax(fit)\n\u001B[0;32m     40\u001B[0m \u001B[38;5;28;01mif\u001B[39;00m fit[best] \u001B[38;5;241m==\u001B[39m old_best: cnt\u001B[38;5;241m=\u001B[39mcnt\u001B[38;5;241m+\u001B[39m\u001B[38;5;241m1\u001B[39m\n",
      "Cell \u001B[1;32mIn[67], line 16\u001B[0m, in \u001B[0;36mfind_fitness\u001B[1;34m(population, r, A)\u001B[0m\n\u001B[0;32m     14\u001B[0m     adj[\u001B[38;5;28mint\u001B[39m(population[i,j]),j] \u001B[38;5;241m=\u001B[39m \u001B[38;5;241m1\u001B[39m\n\u001B[0;32m     15\u001B[0m \u001B[38;5;66;03m# graful cromozomului\u001B[39;00m\n\u001B[1;32m---> 16\u001B[0m G \u001B[38;5;241m=\u001B[39m \u001B[43mnx\u001B[49m\u001B[38;5;241;43m.\u001B[39;49m\u001B[43mfrom_numpy_array\u001B[49m\u001B[43m(\u001B[49m\u001B[43madj\u001B[49m\u001B[43m)\u001B[49m\n\u001B[0;32m     17\u001B[0m \u001B[38;5;66;03m#subgrafurile din cromozom\u001B[39;00m\n\u001B[0;32m     18\u001B[0m subgraphs \u001B[38;5;241m=\u001B[39m find_connected_subgraphs(G)\n",
      "File \u001B[1;32mF:\\Semestrul 2\\AI\\Laboratoare\\Lab03\\ai-lab03-Aleex-C\\lab03\\venv\\lib\\site-packages\\networkx\\convert_matrix.py:1115\u001B[0m, in \u001B[0;36mfrom_numpy_array\u001B[1;34m(A, parallel_edges, create_using)\u001B[0m\n\u001B[0;32m   1112\u001B[0m G\u001B[38;5;241m.\u001B[39madd_nodes_from(\u001B[38;5;28mrange\u001B[39m(n))\n\u001B[0;32m   1113\u001B[0m \u001B[38;5;66;03m# Get a list of all the entries in the array with nonzero entries. These\u001B[39;00m\n\u001B[0;32m   1114\u001B[0m \u001B[38;5;66;03m# coordinates become edges in the graph. (convert to int from np.int64)\u001B[39;00m\n\u001B[1;32m-> 1115\u001B[0m edges \u001B[38;5;241m=\u001B[39m ((\u001B[38;5;28mint\u001B[39m(e[\u001B[38;5;241m0\u001B[39m]), \u001B[38;5;28mint\u001B[39m(e[\u001B[38;5;241m1\u001B[39m])) \u001B[38;5;28;01mfor\u001B[39;00m e \u001B[38;5;129;01min\u001B[39;00m \u001B[38;5;28mzip\u001B[39m(\u001B[38;5;241m*\u001B[39m\u001B[43mA\u001B[49m\u001B[38;5;241;43m.\u001B[39;49m\u001B[43mnonzero\u001B[49m\u001B[43m(\u001B[49m\u001B[43m)\u001B[49m))\n\u001B[0;32m   1116\u001B[0m \u001B[38;5;66;03m# handle numpy constructed data type\u001B[39;00m\n\u001B[0;32m   1117\u001B[0m \u001B[38;5;28;01mif\u001B[39;00m python_type \u001B[38;5;241m==\u001B[39m \u001B[38;5;124m\"\u001B[39m\u001B[38;5;124mvoid\u001B[39m\u001B[38;5;124m\"\u001B[39m:\n\u001B[0;32m   1118\u001B[0m     \u001B[38;5;66;03m# Sort the fields by their offset, then by dtype, then by name.\u001B[39;00m\n",
      "\u001B[1;31mKeyboardInterrupt\u001B[0m: "
     ]
    }
   ],
   "source": [
    "# pc_values = [0.7, 0.8, 0.9]\n",
    "# pm_values = [0.1,0.2]\n",
    "# elitism_values = list(range(1,3))\n",
    "pc_values = [0.8]\n",
    "pm_values = [0.2]\n",
    "elitism_values = [30]\n",
    "\n",
    "got_coms = run_genetic(got, 300, elitism_values, 1, pc_values, pm_values, 0)\n",
    "got_gen_num, got_gen_mod = compute_modularity(got, got_coms)\n",
    "\n",
    "dolphins_coms = run_genetic(dolphins, 300, elitism_values, 0.5, pc_values, pm_values, 0)\n",
    "football_coms = run_genetic(football, 300, elitism_values, 0.5, pc_values, pm_values, 0)\n",
    "krebs_coms = run_genetic(krebs, 300, elitism_values, 0.5, pc_values, pm_values, 0)\n",
    "karate_coms = run_genetic(karate, 300, elitism_values, 0.75, pc_values, pm_values, 0)\n",
    "map_coms = run_genetic(map, 300, elitism_values, 0.75, pc_values, pm_values, 0)\n",
    "name_coms = run_genetic(name, 300, elitism_values, 0.75, pc_values, pm_values, 0)\n",
    "\n",
    "dolphins_gen_num, dolphins_gen_mod = compute_modularity(dolphins, dolphins_coms)\n",
    "dolphins_Newman_num, dolphins_Newman_mod = greedyCommunitiesDetection(dolphins)\n",
    "\n",
    "football_gen_num, football_gen_mod = compute_modularity(football, football_coms)\n",
    "football_Newman_num, football_Newman_mod = greedyCommunitiesDetection(football)\n",
    "\n",
    "krebs_gen_num, krebs_gen_mod = compute_modularity(krebs, krebs_coms)\n",
    "krebs_Newman_num, krebs_Newman_mod = greedyCommunitiesDetection(krebs)\n",
    "\n",
    "karate_gen_num, karate_gen_mod = compute_modularity(karate, karate_coms)\n",
    "karate_Newman_num, karate_Newman_mod = greedyCommunitiesDetection(karate)\n",
    "\n",
    "map_gen_num, map_gen_mod = compute_modularity(map, map_coms)\n",
    "map_Newman_num, map_Newman_mod = greedyCommunitiesDetection(map)\n",
    "\n",
    "name_gen_num, name_gen_mod = compute_modularity(name, name_coms)\n",
    "name_Newman_num, name_Newman_mod = greedyCommunitiesDetection(name)\n",
    "\n",
    "lesmis_coms = run_genetic(lesmis, 300, elitism_values, 2, pc_values, pm_values, 0)\n",
    "lesmis_gen_num, lesmis_gen_mod = compute_modularity(lesmis, lesmis_coms)\n",
    "\n",
    "\n",
    "\n",
    "print(\"DOLPHINS\")\n",
    "print (\"Genetic Algorithm: %r communities with modularity score %r\" %(dolphins_gen_num,dolphins_gen_mod))\n",
    "print(\"Fast Newman Algorithm: %r communities with modularity score %r\" %(dolphins_Newman_num, dolphins_Newman_mod))\n",
    "\n",
    "print(\"FOOTBALL\")\n",
    "print (\"Genetic Algorithm: %r communities with modularity score %r\" %(football_gen_num,football_gen_mod))\n",
    "print(\"Fast Newman Algorithm: %r communities with modularity score %r\" %(football_Newman_num, football_Newman_mod))\n",
    "\n",
    "print(\"KREBS\")\n",
    "print (\"Genetic Algorithm: %r communities with modularity score %r\" %(krebs_gen_num,krebs_gen_mod))\n",
    "print(\"Fast Newman Algorithm: %r communities with modularity score %r\" %(krebs_Newman_num, krebs_Newman_mod))\n",
    "\n",
    "print(\"KARATE\")\n",
    "print (\"Genetic Algorithm: %r communities with modularity score %r\" %(karate_gen_num,karate_gen_mod))\n",
    "print(\"Fast Newman Algorithm: %r communities with modularity score %r\" %(karate_Newman_num, karate_Newman_mod))"
   ],
   "metadata": {
    "collapsed": false
   }
  },
  {
   "cell_type": "code",
   "execution_count": null,
   "outputs": [],
   "source": [
    "print(\"MAP\")\n",
    "print (\"Genetic Algorithm: %r communities with modularity score %r\" %(map_gen_num,map_gen_mod))\n",
    "print(\"Fast Newman Algorithm: %r communities with modularity score %r\" %(map_Newman_num, map_Newman_mod))"
   ],
   "metadata": {
    "collapsed": false
   }
  },
  {
   "cell_type": "code",
   "execution_count": null,
   "outputs": [],
   "source": [
    "print(\"NAME\")\n",
    "print (\"Genetic Algorithm: %r communities with modularity score %r\" %(name_gen_num,name_gen_mod))\n",
    "print(\"Fast Newman Algorithm: %r communities with modularity score %r\" %(name_Newman_num, name_Newman_mod))"
   ],
   "metadata": {
    "collapsed": false
   }
  },
  {
   "cell_type": "code",
   "execution_count": null,
   "outputs": [],
   "source": [
    "print (\"Genetic Algorithm: %r communities with modularity score %r\" %(got_gen_num,got_gen_mod))\n",
    "print (\"Genetic Algorithm: %r communities with modularity score %r\" %(lesmis_gen_num,lesmis_gen_mod))"
   ],
   "metadata": {
    "collapsed": false
   }
  }
 ],
 "metadata": {
  "kernelspec": {
   "display_name": "Python 3",
   "language": "python",
   "name": "python3"
  },
  "language_info": {
   "codemirror_mode": {
    "name": "ipython",
    "version": 2
   },
   "file_extension": ".py",
   "mimetype": "text/x-python",
   "name": "python",
   "nbconvert_exporter": "python",
   "pygments_lexer": "ipython2",
   "version": "2.7.6"
  }
 },
 "nbformat": 4,
 "nbformat_minor": 0
}
